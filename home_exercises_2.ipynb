{
  "nbformat": 4,
  "nbformat_minor": 0,
  "metadata": {
    "colab": {
      "provenance": []
    },
    "kernelspec": {
      "name": "python3",
      "display_name": "Python 3"
    },
    "language_info": {
      "name": "python"
    }
  },
  "cells": [
    {
      "cell_type": "markdown",
      "source": [
        "Practice Questions for numpy"
      ],
      "metadata": {
        "id": "t85VrawFtucw"
      }
    },
    {
      "cell_type": "code",
      "execution_count": 3,
      "metadata": {
        "colab": {
          "base_uri": "https://localhost:8080/"
        },
        "id": "RyFrGgNlrx97",
        "outputId": "cdbb94f4-1ece-46ce-9afe-644b21d7d8e3"
      },
      "outputs": [
        {
          "output_type": "stream",
          "name": "stdout",
          "text": [
            "Vertical Stack:\n",
            " [[1 2]\n",
            " [3 4]\n",
            " [5 6]\n",
            " [7 8]]\n",
            "Horizontal Stack:\n",
            " [[1 2 5 6]\n",
            " [3 4 7 8]]\n"
          ]
        }
      ],
      "source": [
        "import numpy as np\n",
        "# 1️⃣ Define two numpy arrays A and B and stack them vertically and horizontally\n",
        "A = np.array([[1, 2], [3, 4]])\n",
        "B = np.array([[5, 6], [7, 8]])\n",
        "\n",
        "# Vertical stack (one on top of the other)\n",
        "v_stack = np.vstack((A, B))\n",
        "# Horizontal stack (side by side)\n",
        "h_stack = np.hstack((A, B))\n",
        "\n",
        "print(\"Vertical Stack:\\n\", v_stack)\n",
        "print(\"Horizontal Stack:\\n\", h_stack)"
      ]
    },
    {
      "cell_type": "code",
      "source": [
        "# 2️⃣ Find common elements between A and B\n",
        "common = np.intersect1d(A, B)\n",
        "print(\"Common elements:\", common)"
      ],
      "metadata": {
        "colab": {
          "base_uri": "https://localhost:8080/"
        },
        "id": "-K8eljGVsuIf",
        "outputId": "48b6e1c0-5e4e-4297-a696-3f22b0355165"
      },
      "execution_count": 4,
      "outputs": [
        {
          "output_type": "stream",
          "name": "stdout",
          "text": [
            "Common elements: []\n"
          ]
        }
      ]
    },
    {
      "cell_type": "code",
      "source": [
        "# 3️⃣ Extract all numbers from A that are within a specific range (5 to 10)\n",
        "A = np.array([2, 5, 6, 9, 12])\n",
        "result = A[(A >= 5) & (A <= 10)]\n",
        "print(\"Elements between 5 and 10:\", result)"
      ],
      "metadata": {
        "colab": {
          "base_uri": "https://localhost:8080/"
        },
        "id": "_nYfQv6EtB_q",
        "outputId": "cf135325-de9e-4206-9022-65789a462249"
      },
      "execution_count": 5,
      "outputs": [
        {
          "output_type": "stream",
          "name": "stdout",
          "text": [
            "Elements between 5 and 10: [5 6 9]\n"
          ]
        }
      ]
    },
    {
      "cell_type": "code",
      "source": [
        "# 4️⃣ Filter rows of iris_2d where petal length (3rd column) > 1.5\n",
        "#     and sepal length (1st column) < 5.0\n",
        "url = 'https://archive.ics.uci.edu/ml/machine-learning-databases/iris/iris.data'\n",
        "iris_2d = np.genfromtxt(url, delimiter=',', dtype='float', usecols=[0,1,2,3])\n",
        "\n",
        "filtered = iris_2d[(iris_2d[:, 2] > 1.5) & (iris_2d[:, 0] < 5.0)]\n",
        "print(\"Filtered iris_2d rows:\\n\", filtered)"
      ],
      "metadata": {
        "colab": {
          "base_uri": "https://localhost:8080/"
        },
        "id": "p_4awahttcwf",
        "outputId": "224ceda0-6cdb-4019-e9b1-8b8d2bde329e"
      },
      "execution_count": 6,
      "outputs": [
        {
          "output_type": "stream",
          "name": "stdout",
          "text": [
            "Filtered iris_2d rows:\n",
            " [[4.8 3.4 1.6 0.2]\n",
            " [4.8 3.4 1.9 0.2]\n",
            " [4.7 3.2 1.6 0.2]\n",
            " [4.8 3.1 1.6 0.2]\n",
            " [4.9 2.4 3.3 1. ]\n",
            " [4.9 2.5 4.5 1.7]]\n"
          ]
        }
      ]
    },
    {
      "cell_type": "markdown",
      "source": [
        "Practice Questions for Pandas"
      ],
      "metadata": {
        "id": "WONVnZPUtx4L"
      }
    },
    {
      "cell_type": "code",
      "source": [
        "import pandas as pd\n",
        "# 1️⃣ Filter the 'Manufacturer', 'Model', and 'Type' columns for every 20th row starting from row 0\n",
        "df = pd.read_csv('https://raw.githubusercontent.com/selva86/datasets/master/Cars93_miss.csv')\n",
        "\n",
        "filtered = df.loc[::20, ['Manufacturer', 'Model', 'Type']]\n",
        "print(\"Every 20th row with selected columns:\\n\", filtered)"
      ],
      "metadata": {
        "colab": {
          "base_uri": "https://localhost:8080/"
        },
        "id": "DQkSageSt6ik",
        "outputId": "127a4d73-cc82-4930-faa0-8ec68f38dba6"
      },
      "execution_count": 9,
      "outputs": [
        {
          "output_type": "stream",
          "name": "stdout",
          "text": [
            "Every 20th row with selected columns:\n",
            "    Manufacturer    Model     Type\n",
            "0         Acura  Integra    Small\n",
            "20     Chrysler  LeBaron  Compact\n",
            "40        Honda  Prelude   Sporty\n",
            "60      Mercury   Cougar  Midsize\n",
            "80       Subaru   Loyale    Small\n"
          ]
        }
      ]
    },
    {
      "cell_type": "code",
      "source": [
        "# 2️⃣ Replace missing values in 'Min.Price' and 'Max.Price' columns with their respective mean\n",
        "df = pd.read_csv('https://raw.githubusercontent.com/selva86/datasets/master/Cars93_miss.csv')\n",
        "\n",
        "df['Min.Price'].fillna(df['Min.Price'].mean(), inplace=True)\n",
        "df['Max.Price'].fillna(df['Max.Price'].mean(), inplace=True)\n",
        "\n",
        "print(\"\\nColumns after filling missing values with mean:\\n\", df[['Min.Price', 'Max.Price']].head())"
      ],
      "metadata": {
        "colab": {
          "base_uri": "https://localhost:8080/"
        },
        "id": "zKLJQhzju9u4",
        "outputId": "016a0310-4e32-4ca5-a949-d455e0b4c410"
      },
      "execution_count": 11,
      "outputs": [
        {
          "output_type": "stream",
          "name": "stdout",
          "text": [
            "\n",
            "Columns after filling missing values with mean:\n",
            "    Min.Price  Max.Price\n",
            "0  12.900000  18.800000\n",
            "1  29.200000  38.700000\n",
            "2  25.900000  32.300000\n",
            "3  17.118605  44.600000\n",
            "4  17.118605  21.459091\n"
          ]
        },
        {
          "output_type": "stream",
          "name": "stderr",
          "text": [
            "/tmp/ipython-input-405286214.py:4: FutureWarning: A value is trying to be set on a copy of a DataFrame or Series through chained assignment using an inplace method.\n",
            "The behavior will change in pandas 3.0. This inplace method will never work because the intermediate object on which we are setting values always behaves as a copy.\n",
            "\n",
            "For example, when doing 'df[col].method(value, inplace=True)', try using 'df.method({col: value}, inplace=True)' or df[col] = df[col].method(value) instead, to perform the operation inplace on the original object.\n",
            "\n",
            "\n",
            "  df['Min.Price'].fillna(df['Min.Price'].mean(), inplace=True)\n",
            "/tmp/ipython-input-405286214.py:5: FutureWarning: A value is trying to be set on a copy of a DataFrame or Series through chained assignment using an inplace method.\n",
            "The behavior will change in pandas 3.0. This inplace method will never work because the intermediate object on which we are setting values always behaves as a copy.\n",
            "\n",
            "For example, when doing 'df[col].method(value, inplace=True)', try using 'df.method({col: value}, inplace=True)' or df[col] = df[col].method(value) instead, to perform the operation inplace on the original object.\n",
            "\n",
            "\n",
            "  df['Max.Price'].fillna(df['Max.Price'].mean(), inplace=True)\n"
          ]
        }
      ]
    },
    {
      "cell_type": "code",
      "source": [
        "# 3️⃣ Get the rows of a dataframe where the row sum is greater than 100\n",
        "df_random = pd.DataFrame(np.random.randint(10, 40, 60).reshape(-1, 4), columns=list('ABCD'))\n",
        "\n",
        "filtered_rows = df_random[df_random.sum(axis=1) > 100]\n",
        "print(\"\\nRows with sum greater than 100:\\n\", filtered_rows)"
      ],
      "metadata": {
        "colab": {
          "base_uri": "https://localhost:8080/"
        },
        "id": "h-MY5tl2vI5x",
        "outputId": "8b429fc9-729f-40d0-baf5-0a4e4798866b"
      },
      "execution_count": 12,
      "outputs": [
        {
          "output_type": "stream",
          "name": "stdout",
          "text": [
            "\n",
            "Rows with sum greater than 100:\n",
            "      A   B   C   D\n",
            "2   13  35  25  36\n",
            "3   32  21  30  34\n",
            "5   18  24  23  37\n",
            "7   35  14  36  22\n",
            "9   26  33  22  28\n",
            "11  23  17  29  33\n",
            "12  28  20  32  21\n",
            "13  24  36  34  13\n"
          ]
        }
      ]
    }
  ]
}